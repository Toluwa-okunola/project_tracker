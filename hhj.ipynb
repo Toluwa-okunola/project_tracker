{
 "cells": [
  {
   "cell_type": "code",
   "execution_count": null,
   "id": "initial_id",
   "metadata": {
    "collapsed": true
   },
   "outputs": [],
   "source": [
    ""
   ]
  },
  {
   "metadata": {
    "ExecuteTime": {
     "end_time": "2025-07-01T21:21:07.777819Z",
     "start_time": "2025-07-01T21:21:07.742249Z"
    }
   },
   "cell_type": "code",
   "source": [
    "from app import app, db, Project, ProjectUser, User\n",
    "\n",
    "with app.app_context():\n",
    "    for project in Project.query.all():\n",
    "        # Check if an owner association already exists\n",
    "        has_owner = any(assoc.role == 'owner' for assoc in project.user_associations)\n",
    "        if not has_owner:\n",
    "            # Check again to avoid duplicate entries\n",
    "            existing_assoc = ProjectUser.query.filter_by(\n",
    "                user_id=project.user_id,\n",
    "                project_id=project.id\n",
    "            ).first()\n",
    "\n",
    "            if not existing_assoc:\n",
    "                user = db.session.get(User, project.user_id)  # SQLAlchemy 2.0 way\n",
    "                if user:\n",
    "                    assoc = ProjectUser(user=user, project=project, role='owner')\n",
    "                    db.session.add(assoc)\n",
    "\n",
    "    db.session.commit()\n"
   ],
   "id": "770731a845e834e0",
   "outputs": [],
   "execution_count": 2
  },
  {
   "metadata": {},
   "cell_type": "code",
   "outputs": [],
   "execution_count": null,
   "source": "",
   "id": "8d9484629c305f02"
  }
 ],
 "metadata": {
  "kernelspec": {
   "display_name": "Python 3",
   "language": "python",
   "name": "python3"
  },
  "language_info": {
   "codemirror_mode": {
    "name": "ipython",
    "version": 2
   },
   "file_extension": ".py",
   "mimetype": "text/x-python",
   "name": "python",
   "nbconvert_exporter": "python",
   "pygments_lexer": "ipython2",
   "version": "2.7.6"
  }
 },
 "nbformat": 4,
 "nbformat_minor": 5
}
